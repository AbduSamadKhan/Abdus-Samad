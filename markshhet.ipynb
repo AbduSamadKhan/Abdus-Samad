{
 "cells": [
  {
   "cell_type": "code",
   "execution_count": 7,
   "metadata": {},
   "outputs": [
    {
     "name": "stdout",
     "output_type": "stream",
     "text": [
      "enter marks of math65\n",
      "enter marks of physics67\n",
      "enter marks of urdu98\n",
      "enter marks of english76\n",
      "enter marks of chemistry78\n",
      "enter marks of islamiat97\n",
      "the percentage is: 80.16666666666666\n",
      "your grade is B\n"
     ]
    }
   ],
   "source": [
    "maths = int (input(\"enter marks of math\"))\n",
    "physics =int (input(\"enter marks of physics\"))\n",
    "urdu = int (input(\"enter marks of urdu\"))\n",
    "english = int (input(\"enter marks of english\"))\n",
    "chemistry = int (input(\"enter marks of chemistry\"))\n",
    "islamiat = int (input(\"enter marks of islamiat\"))\n",
    "a=maths+physics+urdu+english+chemistry+islamiat\n",
    "b=a/600*100\n",
    "print(\"the percentage is:\",b)\n",
    "\n",
    "if (b>90):\n",
    "    print(\"your grade is A\")\n",
    "elif (b>70):\n",
    "    print(\"your grade is B\")\n",
    "elif (b>60):\n",
    "    print(\"your grade is C\")\n",
    "elif (b>50):\n",
    "    print(\"your grade is D\")\n",
    "else:\n",
    "    print(\"sorry! you are fail\")\n",
    "    print(\"better luck next time\")"
   ]
  },
  {
   "cell_type": "code",
   "execution_count": 8,
   "metadata": {},
   "outputs": [
    {
     "name": "stdout",
     "output_type": "stream",
     "text": [
      "['S.name', 'maths', 'physics', 'chemistry', 'urdu', 'islamiat', 'english', 'marks obtained', 'total marks', 'percentage', 'A.samad', '98', '87', '89', '76', '65', '76', '491', '600', '81.8', 'talha', '67', '78', '98', '76', '78', '76', '473', '600', '78.8', 'usama', '45', '67', '64', '56', '76', '66', '374', '600', '62.3', 'ahmed', '4', '5', '6', '7', '86', '5', '113', '600', '18.8']\n"
     ]
    }
   ],
   "source": [
    "import csv\n",
    "with open (\"marksheet1.csv\") as m:\n",
    "    contents_of_file = csv.reader(m)\n",
    "    potter_competitions = []   \n",
    "    for each_line in contents_of_file: \n",
    "        potter_competitions += each_line \n",
    "print(potter_competitions) "
   ]
  },
  {
   "cell_type": "code",
   "execution_count": null,
   "metadata": {},
   "outputs": [],
   "source": []
  }
 ],
 "metadata": {
  "kernelspec": {
   "display_name": "Python 3",
   "language": "python",
   "name": "python3"
  },
  "language_info": {
   "codemirror_mode": {
    "name": "ipython",
    "version": 3
   },
   "file_extension": ".py",
   "mimetype": "text/x-python",
   "name": "python",
   "nbconvert_exporter": "python",
   "pygments_lexer": "ipython3",
   "version": "3.7.3"
  }
 },
 "nbformat": 4,
 "nbformat_minor": 2
}
