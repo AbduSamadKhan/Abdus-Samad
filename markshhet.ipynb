{
 "cells": [
  {
   "cell_type": "code",
   "execution_count": 7,
   "metadata": {},
   "outputs": [
    {
     "name": "stdout",
     "output_type": "stream",
     "text": [
      "enter marks of math65\n",
      "enter marks of physics67\n",
      "enter marks of urdu98\n",
      "enter marks of english76\n",
      "enter marks of chemistry78\n",
      "enter marks of islamiat97\n",
      "the percentage is: 80.16666666666666\n",
      "your grade is B\n"
     ]
    }
   ],
   "source": [
    "maths = int (input(\"enter marks of math\"))\n",
    "physics =int (input(\"enter marks of physics\"))\n",
    "urdu = int (input(\"enter marks of urdu\"))\n",
    "english = int (input(\"enter marks of english\"))\n",
    "chemistry = int (input(\"enter marks of chemistry\"))\n",
    "islamiat = int (input(\"enter marks of islamiat\"))\n",
    "a=maths+physics+urdu+english+chemistry+islamiat\n",
    "b=a/600*100\n",
    "print(\"the percentage is:\",b)\n",
    "\n",
    "if (b>90):\n",
    "    print(\"your grade is A\")\n",
    "elif (b>70):\n",
    "    print(\"your grade is B\")\n",
    "elif (b>60):\n",
    "    print(\"your grade is C\")\n",
    "elif (b>50):\n",
    "    print(\"your grade is D\")\n",
    "else:\n",
    "    print(\"sorry! you are fail\")\n",
    "    print(\"better luck next time\")"
   ]
  }
 ],
 "metadata": {
  "kernelspec": {
   "display_name": "Python 3",
   "language": "python",
   "name": "python3"
  }
 },
 "nbformat": 4,
 "nbformat_minor": 2
}
