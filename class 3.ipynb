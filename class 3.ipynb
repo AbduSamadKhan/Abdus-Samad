{
 "cells": [
  {
   "cell_type": "code",
   "execution_count": 27,
   "metadata": {},
   "outputs": [
    {
     "name": "stdout",
     "output_type": "stream",
     "text": [
      "name of the city atlanta\n",
      "city is baltimore: False\n",
      "name of the city baltimore\n",
      "city is baltimore: True\n",
      "name of the city chicago\n",
      "city is baltimore: False\n",
      "name of the city denver\n",
      "city is baltimore: False\n"
     ]
    }
   ],
   "source": [
    "cities = [\"atlanta\", \"baltimore\", \"chicago\", \"denver\"]\n",
    "for city in cities:\n",
    "    print(\"name of the city\", city)\n",
    "    print(\"city is baltimore:\", city == \"baltimore\")"
   ]
  },
  {
   "cell_type": "code",
   "execution_count": 37,
   "metadata": {},
   "outputs": [
    {
     "name": "stdout",
     "output_type": "stream",
     "text": [
      "2 * 0 = 0\n",
      "2 * 1 = 2\n",
      "2 * 2 = 4\n",
      "2 * 3 = 6\n",
      "2 * 4 = 8\n",
      "2 * 5 = 10\n",
      "2 * 6 = 12\n",
      "2 * 7 = 14\n",
      "2 * 8 = 16\n",
      "2 * 9 = 18\n",
      "2 * 10 = 20\n"
     ]
    }
   ],
   "source": [
    "num =2\n",
    "for a in range (0 , 11):\n",
    "    print (num, '*',a,'=',a*2)"
   ]
  },
  {
   "cell_type": "code",
   "execution_count": 54,
   "metadata": {},
   "outputs": [
    {
     "name": "stdout",
     "output_type": "stream",
     "text": [
      "first child name: osama nasir\n",
      "last child name: talha nasir\n",
      "first child name: sana kamran\n",
      "last child name: talha kamran\n",
      "first child name: talha sheikh\n",
      "last child name: talha sheikh\n"
     ]
    }
   ],
   "source": [
    "father_names= [\"nasir\", \"kamran\", \"sheikh\"]\n",
    "children_names= [\"osama\", \"sana\", \"talha\"]\n",
    "full_names= []\n",
    "index = 0\n",
    "#last =3\n",
    "for father_name in father_names:\n",
    "    for child_name in children_names:\n",
    "        full_names.append(child_name + \" \"+ father_name )\n",
    "        \n",
    "    print(\"first child name:\", full_names[index])\n",
    "    #print(\"last child name:\", full_names[last])\n",
    "    print(\"last child name:\", full_names[-1])\n",
    "    #print(full_names)\n",
    "    index += 4\n",
    "    #last += 4\n",
    "#print(full_names)"
   ]
  },
  {
   "cell_type": "code",
   "execution_count": 56,
   "metadata": {},
   "outputs": [
    {
     "name": "stdout",
     "output_type": "stream",
     "text": [
      "enter value:2\n",
      "enter value:4\n",
      "6\n"
     ]
    }
   ],
   "source": [
    "number1 = int(input (\"enter value:\"))\n",
    "number2 = int(input(\"enter value:\"))\n",
    "print (number1 + number2)"
   ]
  },
  {
   "cell_type": "code",
   "execution_count": 59,
   "metadata": {},
   "outputs": [
    {
     "ename": "SyntaxError",
     "evalue": "invalid syntax (<ipython-input-59-4ae6f47c1969>, line 3)",
     "output_type": "error",
     "traceback": [
      "\u001b[1;36m  File \u001b[1;32m\"<ipython-input-59-4ae6f47c1969>\"\u001b[1;36m, line \u001b[1;32m3\u001b[0m\n\u001b[1;33m    print(\"names in city in upper case\"clean_city.upper())\u001b[0m\n\u001b[1;37m                                                ^\u001b[0m\n\u001b[1;31mSyntaxError\u001b[0m\u001b[1;31m:\u001b[0m invalid syntax\n"
     ]
    }
   ],
   "source": [
    "cleanest_cities = [\"chicago\", \"london\", \"karachi\", \"islamabad\"]\n",
    "for clean_city in cleanest_cities:\n",
    "    print(\"names in upper case\"clean_city.upper())\n",
    "    print (\"name of city in title format\"clean_city.title())"
   ]
  },
  {
   "cell_type": "code",
   "execution_count": null,
   "metadata": {},
   "outputs": [],
   "source": []
  }
 ],
 "metadata": {
  "kernelspec": {
   "display_name": "Python 3",
   "language": "python",
   "name": "python3"
  },
  "language_info": {
   "codemirror_mode": {
    "name": "ipython",
    "version": 3
   },
   "file_extension": ".py",
   "mimetype": "text/x-python",
   "name": "python",
   "nbconvert_exporter": "python",
   "pygments_lexer": "ipython3",
   "version": "3.7.3"
  }
 },
 "nbformat": 4,
 "nbformat_minor": 2
}
